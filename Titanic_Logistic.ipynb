{
  "nbformat": 4,
  "nbformat_minor": 0,
  "metadata": {
    "anaconda-cloud": {},
    "kernelspec": {
      "display_name": "Python [default]",
      "language": "python",
      "name": "python3"
    },
    "language_info": {
      "codemirror_mode": {
        "name": "ipython",
        "version": 3
      },
      "file_extension": ".py",
      "mimetype": "text/x-python",
      "name": "python",
      "nbconvert_exporter": "python",
      "pygments_lexer": "ipython3",
      "version": "3.5.3"
    },
    "colab": {
      "name": "Titanic Logistic.ipynb",
      "provenance": [],
      "collapsed_sections": [],
      "toc_visible": true
    }
  },
  "cells": [
    {
      "cell_type": "markdown",
      "metadata": {
        "id": "XWpgskVfmMjj",
        "colab_type": "text"
      },
      "source": [
        "# Bayesian Statistics: Assignment 2\n",
        "Yizhen Dai, S2395479\n",
        "\n",
        "## Introduction\n",
        "The sinking of the RMS Titanic is one of the most infamous shipwrecks in history. On April 15, 1912, during her maiden voyage, the Titanic sank after colliding with an iceberg, killing 1502 out of 2224 passengers and crew[1]. This sensational tragedy shocked the international community and led to better safety regulations for ships. Although there was some element of luck involved in surviving the sinking, some groups of people were more likely to survive than others, such as women, children, and the upper-class.\n",
        "\n",
        "In this assignment, we will build a Bayesian logistic regression classifier to predict the passenger survial. \n",
        "\n",
        "## Get the data ready"
      ]
    },
    {
      "cell_type": "code",
      "metadata": {
        "id": "czcBHSIpjctl",
        "colab_type": "code",
        "colab": {}
      },
      "source": [
        "!pip install arviz"
      ],
      "execution_count": 0,
      "outputs": []
    },
    {
      "cell_type": "code",
      "metadata": {
        "id": "rksxeMzhmMjp",
        "colab_type": "code",
        "colab": {}
      },
      "source": [
        "### import packages\n",
        "import numpy as np\n",
        "import pandas as pd\n",
        "\n",
        "import pystan \n",
        "import arviz\n",
        "\n",
        "import scipy\n",
        "from scipy.stats import bernoulli\n",
        "\n",
        "import sklearn\n",
        "from sklearn.metrics import roc_auc_score\n",
        "from sklearn.metrics import roc_curve\n",
        "from sklearn.model_selection import train_test_split\n",
        "\n",
        "import matplotlib.pyplot as plt\n",
        "import matplotlib.patches as mpatches\n",
        "%pylab inline\n",
        "\n",
        "# roc curve and auc\n",
        "from sklearn.datasets import make_classification\n",
        "from sklearn.linear_model import LogisticRegression\n",
        "from sklearn.model_selection import train_test_split\n",
        "\n",
        "\n"
      ],
      "execution_count": 0,
      "outputs": []
    },
    {
      "cell_type": "markdown",
      "metadata": {
        "id": "hWNIHBEGmMjt",
        "colab_type": "text"
      },
      "source": [
        "Splitting data before EDA and pre-processing to avoid data leakge"
      ]
    },
    {
      "cell_type": "code",
      "metadata": {
        "id": "QFhFOpbsmMjt",
        "colab_type": "code",
        "colab": {
          "base_uri": "https://localhost:8080/",
          "height": 55
        },
        "outputId": "4bd75ae3-d890-4e5e-bcd4-1677a68b831f"
      },
      "source": [
        "### Read the data\n",
        "FILE = '/content/titanic.csv'\n",
        "data = pd.read_csv(FILE)\n",
        "\n",
        "### 'PassengerID','Name'and'Ticket'are irrelevant to our study, which will be excluded from our study.\n",
        "data = data.drop(['PassengerId','Ticket','Name'],axis=1)\n",
        "\n",
        "### Spllit the data\n",
        "train, test = train_test_split(data, train_size=600, random_state=2020)\n",
        "print(\"Total sample size = %i; training sample size = %i, testing sample size = %i\"\\\n",
        "     %(data.shape[0],train.shape[0],test.shape[0]))"
      ],
      "execution_count": 192,
      "outputs": [
        {
          "output_type": "stream",
          "text": [
            "Total sample size = 891; training sample size = 600, testing sample size = 291\n"
          ],
          "name": "stdout"
        }
      ]
    },
    {
      "cell_type": "code",
      "metadata": {
        "id": "EXmC-6N3mMj5",
        "colab_type": "code",
        "colab": {}
      },
      "source": [
        "# Define a function to plot the surivial rate\n",
        "def plot(df,group):\n",
        "    ### df is the dataframe, group is the variable name\n",
        "    ratio=df.groupby(group).mean()['Survived'] # Survial ratio\n",
        "    ratio.plot.bar(color='pink',alpha=0.7)\n",
        "    plt.title(\"Survival Rate by %s\" % group)\n",
        "    plt.xticks(rotation=0)\n",
        "    plt.ylabel('Survival Rate')\n",
        "    return ratio"
      ],
      "execution_count": 0,
      "outputs": []
    },
    {
      "cell_type": "code",
      "metadata": {
        "id": "slHVxulJmMjy",
        "colab_type": "code",
        "outputId": "8d18e902-6d78-47cd-c527-c211bea31a34",
        "colab": {
          "base_uri": "https://localhost:8080/",
          "height": 215
        }
      },
      "source": [
        "### Calculate the missing value %\n",
        "total_data = train.count()\n",
        "percent_data=total_data/train.shape[0]\n",
        "print('The missing % in the training data for variables are:')\n",
        "print(percent_data)"
      ],
      "execution_count": 194,
      "outputs": [
        {
          "output_type": "stream",
          "text": [
            "The missing % in the training data for variables are:\n",
            "Survived    1.000000\n",
            "Pclass      1.000000\n",
            "Sex         1.000000\n",
            "Age         0.816667\n",
            "SibSp       1.000000\n",
            "Parch       1.000000\n",
            "Fare        1.000000\n",
            "Cabin       0.230000\n",
            "Embarked    0.996667\n",
            "dtype: float64\n"
          ],
          "name": "stdout"
        }
      ]
    },
    {
      "cell_type": "markdown",
      "metadata": {
        "id": "_wtjlNdsmMj1",
        "colab_type": "text"
      },
      "source": [
        "We can see that about 77% of recorded passengers in the training data set lack 'Cabin' data. we will test if the passengers with 'Cabin' data have the same survival rate with those that do not have 'Cabin' data. \n",
        "\n",
        "\n",
        "\n"
      ]
    },
    {
      "cell_type": "code",
      "metadata": {
        "id": "LOhlkwE37VIe",
        "colab_type": "code",
        "colab": {}
      },
      "source": [
        "train.loc[:,'Without_Cabin']= train['Cabin'].isnull()"
      ],
      "execution_count": 0,
      "outputs": []
    },
    {
      "cell_type": "code",
      "metadata": {
        "id": "jVvrVsoJ5GMt",
        "colab_type": "code",
        "colab": {
          "base_uri": "https://localhost:8080/",
          "height": 368
        },
        "outputId": "5e172122-d694-48ae-bded-dd0a74e16198"
      },
      "source": [
        "plot(train,\"Without_Cabin\")"
      ],
      "execution_count": 196,
      "outputs": [
        {
          "output_type": "execute_result",
          "data": {
            "text/plain": [
              "Without_Cabin\n",
              "False    0.688406\n",
              "True     0.281385\n",
              "Name: Survived, dtype: float64"
            ]
          },
          "metadata": {
            "tags": []
          },
          "execution_count": 196
        },
        {
          "output_type": "display_data",
          "data": {
            "image/png": "[encoded data removed]",
            "text/plain": [
              "<Figure size 432x288 with 1 Axes>"
            ]
          },
          "metadata": {
            "tags": [],
            "needs_background": "light"
          }
        }
      ]
    },
    {
      "cell_type": "markdown",
      "metadata": {
        "id": "5_tIn1HK7a6t",
        "colab_type": "text"
      },
      "source": [
        "It appears passengers without cabin information have a lower survivate rate. It may due to that it was harder to gather the cabin information of people who did not survive the trip. We will use the variable 'Without_Cabin' instead of 'Cabin', i.e.  we will replace the 'Cabin' column with a new column showing if there is cabin information for the passenger."
      ]
    },
    {
      "cell_type": "code",
      "metadata": {
        "id": "vrME5hG04L9M",
        "colab_type": "code",
        "colab": {}
      },
      "source": [
        "train = train.drop(['Cabin'],axis=1)\n",
        "### apply the same rule to test data\n",
        "test.loc[:,'Without_Cabin']= test['Cabin'].isnull()\n",
        "test = test.drop(['Cabin'],axis=1)"
      ],
      "execution_count": 0,
      "outputs": []
    },
    {
      "cell_type": "markdown",
      "metadata": {
        "id": "zwohckf84NC8",
        "colab_type": "text"
      },
      "source": [
        "It is also shown less than 0.004 of passengers in the training data set miss 'Embarked' information. "
      ]
    },
    {
      "cell_type": "code",
      "metadata": {
        "id": "aMhT05_U4Mme",
        "colab_type": "code",
        "colab": {
          "base_uri": "https://localhost:8080/",
          "height": 89
        },
        "outputId": "7f229f6b-1f1e-4ff0-fa40-cbc687e7fe59"
      },
      "source": [
        "train.Embarked.value_counts()"
      ],
      "execution_count": 198,
      "outputs": [
        {
          "output_type": "execute_result",
          "data": {
            "text/plain": [
              "S    434\n",
              "C    115\n",
              "Q     49\n",
              "Name: Embarked, dtype: int64"
            ]
          },
          "metadata": {
            "tags": []
          },
          "execution_count": 198
        }
      ]
    },
    {
      "cell_type": "markdown",
      "metadata": {
        "id": "7JHvBVTR5vwr",
        "colab_type": "text"
      },
      "source": [
        "We will fill the missing 'Embarked' values in train and test data with mode in train data: 'S'"
      ]
    },
    {
      "cell_type": "code",
      "metadata": {
        "id": "nw14iki85veE",
        "colab_type": "code",
        "colab": {}
      },
      "source": [
        "# Replace nan values for both train and test data\n",
        "train['Embarked'].fillna('S', inplace=True)\n",
        "test['Embarked'].fillna('S', inplace=True)"
      ],
      "execution_count": 0,
      "outputs": []
    },
    {
      "cell_type": "markdown",
      "metadata": {
        "id": "dfO916Zu42WV",
        "colab_type": "text"
      },
      "source": [
        "Also, about 19% of age data are missing. Next, we will test if the passengers with age data have the same survival rate with those that do not have age data. It will help us to decide how we handle the missing age data."
      ]
    },
    {
      "cell_type": "code",
      "metadata": {
        "id": "yVhPS7ScmMkB",
        "colab_type": "code",
        "outputId": "4da4c185-9385-4d1e-c211-cb0d4290b5dc",
        "colab": {
          "base_uri": "https://localhost:8080/",
          "height": 368
        }
      },
      "source": [
        "# Test if the passengers with age data have the same survival rate with those that do not have age data.\n",
        "train.loc[:,'Without_Age']= np.isnan(train['Age'])\n",
        "plot(train,\"Without_Age\")"
      ],
      "execution_count": 200,
      "outputs": [
        {
          "output_type": "execute_result",
          "data": {
            "text/plain": [
              "Without_Age\n",
              "False    0.397959\n",
              "True     0.272727\n",
              "Name: Survived, dtype: float64"
            ]
          },
          "metadata": {
            "tags": []
          },
          "execution_count": 200
        },
        {
          "output_type": "display_data",
          "data": {
            "image/png": "[encoded data removed]",
            "text/plain": [
              "<Figure size 432x288 with 1 Axes>"
            ]
          },
          "metadata": {
            "tags": [],
            "needs_background": "light"
          }
        }
      ]
    },
    {
      "cell_type": "markdown",
      "metadata": {
        "id": "EvR9_uw2mMkH",
        "colab_type": "text"
      },
      "source": [
        "It appears passengers without age information have a lower survivate rate. It may due to that it was harder to gather the age information of people who did not survive the trip. The Nan values are replaced with the mean age of the same SEX and PClass group."
      ]
    },
    {
      "cell_type": "code",
      "metadata": {
        "id": "BRHLfWccmMkE",
        "colab_type": "code",
        "colab": {}
      },
      "source": [
        "### Replace nan values use mean values\n",
        "train.loc[:,'Age'] = train.groupby(['Sex', 'Pclass'])['Age'].transform(lambda x: x.fillna(x.mean()))\n",
        "### Apply the same rule to test data\n",
        "test.loc[:,'Without_Age']= np.isnan(test['Age'])\n",
        "test.loc[:,'Age'] = test.groupby(['Sex', 'Pclass'])['Age'].transform(lambda x: x.fillna(x.mean()))"
      ],
      "execution_count": 0,
      "outputs": []
    },
    {
      "cell_type": "markdown",
      "metadata": {
        "id": "Cf_vgQba_3qt",
        "colab_type": "text"
      },
      "source": [
        "**In summary**\n",
        "\n",
        "\n",
        "\n",
        "*   'PassengerId','Ticket','Name','Cabin' are removed\n",
        "*   'Without_Cabin' and 'Without_Age' are added\n",
        "*   Missing values in 'Embarked' is replaced with the mode 'S'\n",
        "*   Missing values in 'Age' is replaced with the mean age of the same SEX and PClass group.\n",
        "\n",
        "\n",
        "\n"
      ]
    },
    {
      "cell_type": "markdown",
      "metadata": {
        "id": "O89U6ET3mMkH",
        "colab_type": "text"
      },
      "source": [
        "## Check Variabless\n",
        "We will compare the survival rates between the groups in each variable. It will give us insights if they are useful in prediction."
      ]
    },
    {
      "cell_type": "code",
      "metadata": {
        "id": "xs1_7L8u8eLJ",
        "colab_type": "code",
        "colab": {
          "base_uri": "https://localhost:8080/",
          "height": 1000
        },
        "outputId": "97904bb8-e4bf-4977-d07f-16f508b8b5f1"
      },
      "source": [
        "i = 0\n",
        "for col in train.columns:\n",
        "    i+=1\n",
        "    if col != 'Survived':\n",
        "        plt.figure(i)\n",
        "        plot(train, col)"
      ],
      "execution_count": 65,
      "outputs": [
        {
          "output_type": "display_data",
          "data": {
            "image/png": "[encoded data removed]",
            "text/plain": [
              "<Figure size 432x288 with 1 Axes>"
            ]
          },
          "metadata": {
            "tags": [],
            "needs_background": "light"
          }
        },
        {
          "output_type": "display_data",
          "data": {
            "image/png": "[encoded data removed]",
            "text/plain": [
              "<Figure size 432x288 with 1 Axes>"
            ]
          },
          "metadata": {
            "tags": [],
            "needs_background": "light"
          }
        },
        {
          "output_type": "display_data",
          "data": {
            "image/png": "[encoded data removed]",
            "text/plain": [
              "<Figure size 432x288 with 1 Axes>"
            ]
          },
          "metadata": {
            "tags": [],
            "needs_background": "light"
          }
        },
        {
          "output_type": "display_data",
          "data": {
            "image/png": "[encoded data removed]",
            "text/plain": [
              "<Figure size 432x288 with 1 Axes>"
            ]
          },
          "metadata": {
            "tags": [],
            "needs_background": "light"
          }
        },
        {
          "output_type": "display_data",
          "data": {
            "image/png": "[encoded data removed]",
            "text/plain": [
              "<Figure size 432x288 with 1 Axes>"
            ]
          },
          "metadata": {
            "tags": [],
            "needs_background": "light"
          }
        },
        {
          "output_type": "display_data",
          "data": {
            "image/png": "[encoded data removed]",
            "text/plain": [
              "<Figure size 432x288 with 1 Axes>"
            ]
          },
          "metadata": {
            "tags": [],
            "needs_background": "light"
          }
        },
        {
          "output_type": "display_data",
          "data": {
            "image/png": "[encoded data removed]",
            "text/plain": [
              "<Figure size 432x288 with 1 Axes>"
            ]
          },
          "metadata": {
            "tags": [],
            "needs_background": "light"
          }
        },
        {
          "output_type": "display_data",
          "data": {
            "image/png": "[encoded data removed]",
            "text/plain": [
              "<Figure size 432x288 with 1 Axes>"
            ]
          },
          "metadata": {
            "tags": [],
            "needs_background": "light"
          }
        },
        {
          "output_type": "display_data",
          "data": {
            "image/png": "[encoded data removed]",
            "text/plain": [
              "<Figure size 432x288 with 1 Axes>"
            ]
          },
          "metadata": {
            "tags": [],
            "needs_background": "light"
          }
        }
      ]
    },
    {
      "cell_type": "markdown",
      "metadata": {
        "id": "GzuGcDlTAaq6",
        "colab_type": "text"
      },
      "source": [
        "We can see the survival rate differs between groups for each variables. We will include them in our model.\n",
        "\n",
        "In summary, the variables we are going to use are 'Pclass', 'Sex', 'Age', 'SibSp', 'Parch', 'Fare','Embarked', 'Without_Cabin', 'Without_Age'.\n"
      ]
    },
    {
      "cell_type": "code",
      "metadata": {
        "id": "F3xMZF7dmMkI",
        "colab_type": "code",
        "colab": {}
      },
      "source": [
        "### seperate X and y\n",
        "ytrain = train['Survived']\n",
        "Xtrain = train.drop(['Survived'],axis=1)\n",
        "\n",
        "ytest = test['Survived']\n",
        "Xtest = test.drop(['Survived'],axis=1)\n",
        "\n",
        "### coding variables so they are numeric\n",
        "Xtrain[\"Sex\"] = Xtrain[\"Sex\"].astype(\"category\")\n",
        "Xtrain[\"Sex\"].cat.categories = [0,1]\n",
        "Xtrain[\"Sex\"] = Xtrain[\"Sex\"].astype(\"int\")\n",
        "\n",
        "Xtrain[\"EmbarkedC\"] = (Xtrain[\"Embarked\"] == 'C').astype(\"int\")\n",
        "Xtrain[\"EmbarkedQ\"] = (Xtrain[\"Embarked\"] == 'Q').astype(\"int\")\n",
        "Xtrain[\"EmbarkedS\"] = (Xtrain[\"Embarked\"] == 'S').astype(\"int\")\n",
        "Xtrain = Xtrain.drop(['Embarked'],axis=1)\n",
        "\n",
        "Xtrain[\"Without_Age\"] = Xtrain[\"Without_Age\"].astype(\"category\")\n",
        "Xtrain[\"Without_Age\"].cat.categories = [0,1]\n",
        "Xtrain[\"Without_Age\"] = Xtrain[\"Without_Age\"].astype(\"int\")\n",
        "\n",
        "Xtrain[\"Without_Cabin\"] = Xtrain[\"Without_Cabin\"].astype(\"category\")\n",
        "Xtrain[\"Without_Cabin\"].cat.categories = [0,1]\n",
        "Xtrain[\"Without_Cabin\"] = Xtrain[\"Without_Cabin\"].astype(\"int\")\n",
        "\n",
        "Xtest[\"Sex\"] = Xtest[\"Sex\"].astype(\"category\")\n",
        "Xtest[\"Sex\"].cat.categories = [0,1]\n",
        "Xtest[\"Sex\"] = Xtest[\"Sex\"].astype(\"int\")\n",
        "\n",
        "Xtest[\"EmbarkedC\"] = (Xtest[\"Embarked\"] == 'C').astype(\"int\")\n",
        "Xtest[\"EmbarkedQ\"] = (Xtest[\"Embarked\"] == 'Q').astype(\"int\")\n",
        "Xtest[\"EmbarkedS\"] = (Xtest[\"Embarked\"] == 'S').astype(\"int\")\n",
        "Xtest = Xtest.drop(['Embarked'],axis=1)\n",
        "\n",
        "Xtest[\"Without_Age\"] = Xtest[\"Without_Age\"].astype(\"category\")\n",
        "Xtest[\"Without_Age\"].cat.categories = [0,1]\n",
        "Xtest[\"Without_Age\"] = Xtest[\"Without_Age\"].astype(\"int\")\n",
        "\n",
        "Xtest[\"Without_Cabin\"] = Xtest[\"Without_Cabin\"].astype(\"category\")\n",
        "Xtest[\"Without_Cabin\"].cat.categories = [0,1]\n",
        "Xtest[\"Without_Cabin\"] = Xtest[\"Without_Cabin\"].astype(\"int\")"
      ],
      "execution_count": 0,
      "outputs": []
    },
    {
      "cell_type": "markdown",
      "metadata": {
        "id": "KEG-C6dUD0nY",
        "colab_type": "text"
      },
      "source": [
        "Now everything is numerically encoded and there are no missing values\n"
      ]
    },
    {
      "cell_type": "markdown",
      "metadata": {
        "id": "7yZ1B1bxmMkn",
        "colab_type": "text"
      },
      "source": [
        "# Bayesian Logistic Regression"
      ]
    },
    {
      "cell_type": "markdown",
      "metadata": {
        "id": "eAaR9PO9zFwU",
        "colab_type": "text"
      },
      "source": [
        "We are going to use Hamiltonian Monte Carlo method for Bayesian Logistic Regression, which is implemented in PyStan in python for using Stan probabilistic programming language. Hamiltonian Monte Carlo converges more quickly  than Gibbs sampling. The code roughly follows the instruction from Steve Avsec[2]."
      ]
    },
    {
      "cell_type": "code",
      "metadata": {
        "id": "gPmNkBYiTQkl",
        "colab_type": "code",
        "colab": {}
      },
      "source": [
        "### Standardize the variables\n",
        "means = Xtrain.loc[:, :].mean()\n",
        "std = Xtrain.loc[:, :].std()\n",
        "Xtrain_scaled = (Xtrain - means)/std\n",
        "Xtest_scaled  = (Xtest  - means)/std"
      ],
      "execution_count": 0,
      "outputs": []
    },
    {
      "cell_type": "markdown",
      "metadata": {
        "id": "t5OjmsB8-Bgm",
        "colab_type": "text"
      },
      "source": [
        "Based on Steve Avsec's suggestion[2], we will use QR decomposition of the original data matrix. The model will be more efficient by \"stepping in perpendicular directions rather than in the arbitrary directions as defined by the data matrix\". "
      ]
    },
    {
      "cell_type": "code",
      "metadata": {
        "colab_type": "code",
        "id": "BuYuMwAa-B0a",
        "colab": {}
      },
      "source": [
        "# Compute the QR decomposition \n",
        "q, r = np.linalg.qr(Xtrain, moe='reduced')\n",
        "\n",
        "q = q*np.sqrt(len(Xtrain))\n",
        "r = r/np.sqrt(len(Xtrain))\n",
        "\n",
        "# Compute the inverse of R as a map for back transformation\n",
        "r_inverse = np.linalg.inv(r)"
      ],
      "execution_count": 0,
      "outputs": []
    },
    {
      "cell_type": "code",
      "metadata": {
        "id": "F5z0tIFVmMko",
        "colab_type": "code",
        "outputId": "2a6a97d8-babf-4414-f150-0af7396f5537",
        "colab": {
          "base_uri": "https://localhost:8080/",
          "height": 55
        }
      },
      "source": [
        "### The code for pystan\n",
        "logistic_code = \"\"\"\n",
        "data {            // define the input data\n",
        "  int<lower=0> N; // number of train objects\n",
        "  int<lower=0> K; // number of variable\n",
        "  int<lower=0> N2;// number of test objects   \n",
        "  matrix[N,K] Q;  // Q from QR decomposition \n",
        "  matrix[K,K] R;  // R from QR decomposition \n",
        "  matrix[K,K] R_inverse;\n",
        "  matrix[N2,K] new_X; //the matrix for the test data\n",
        "  int y[N];        // the response\n",
        "}\n",
        "transformed data {}\n",
        "parameters {        //introduce the parameters\n",
        "    real alpha;     // intercept\n",
        "    vector[K] theta;// coefficients on Q_ast\n",
        "}\n",
        "transformed parameters {}\n",
        "model {             // specify the model\n",
        "    y ~ bernoulli_logit(Q * theta + alpha);\n",
        "}\n",
        "generated quantities {\n",
        "    vector[K] beta;  \n",
        "    vector[N2] y_pred;  \n",
        "    beta = R_inverse * theta; // coefficients on X\n",
        "    y_pred = alpha + new_X * beta;\n",
        "}\n",
        "\"\"\"\n",
        "\n",
        "sm = pystan.StanModel(model_code=logistic_code, model_name='LR')\n"
      ],
      "execution_count": 240,
      "outputs": [
        {
          "output_type": "stream",
          "text": [
            "INFO:pystan:COMPILING THE C++ CODE FOR MODEL LR_de8a79052486f4f0d9f374377c2b9113 NOW.\n"
          ],
          "name": "stderr"
        }
      ]
    },
    {
      "cell_type": "code",
      "metadata": {
        "id": "C3A-rjYQVZB_",
        "colab_type": "code",
        "colab": {}
      },
      "source": [
        "# start the sampling\n",
        "fit = sm.sampling(data=logistic_dat, chains=4, iter=3000, warmup=1000)"
      ],
      "execution_count": 0,
      "outputs": []
    },
    {
      "cell_type": "markdown",
      "metadata": {
        "id": "ujI6WskJVl1M",
        "colab_type": "text"
      },
      "source": [
        "## Assessment of Convergence\n",
        "Arviz library is used to assess the convergence of the MCMC method. "
      ]
    },
    {
      "cell_type": "code",
      "metadata": {
        "id": "jpw3d7ZXWF6J",
        "colab_type": "code",
        "colab": {
          "base_uri": "https://localhost:8080/",
          "height": 331
        },
        "outputId": "44313cc7-4c5c-41b9-a667-9a8bd061d48e"
      },
      "source": [
        "### draw the energy plot\n",
        "inf_data = arviz.convert_to_inference_data(fit)\n",
        "arviz.plot_energy(inf_data)"
      ],
      "execution_count": 256,
      "outputs": [
        {
          "output_type": "execute_result",
          "data": {
            "text/plain": [
              "<matplotlib.axes._subplots.AxesSubplot at 0x7fc7ba5a4e10>"
            ]
          },
          "metadata": {
            "tags": []
          },
          "execution_count": 256
        },
        {
          "output_type": "display_data",
          "data": {
            "image/png": "[encoded data removed]",
            "text/plain": [
              "<Figure size 432x288 with 1 Axes>"
            ]
          },
          "metadata": {
            "tags": []
          }
        }
      ]
    },
    {
      "cell_type": "markdown",
      "metadata": {
        "id": "sF8Y_FriLRBf",
        "colab_type": "text"
      },
      "source": [
        "We can see the BFMI statistic for all chians are larger than 0.3. indicating good convergence.\n",
        "\n",
        "## Inference\n",
        "First, we will set up a naive classifier. This is the baseline for our analysis.\n"
      ]
    },
    {
      "cell_type": "code",
      "metadata": {
        "id": "rAC5u6ZqznKr",
        "colab_type": "code",
        "colab": {}
      },
      "source": [
        "### a naive classifier as a baseline: \n",
        "# (i) All women survived.\n",
        "# (ii) All men died.\n",
        "naive_p = (Xtest.Sex == 0).astype(int) # female = 0, survival = 1"
      ],
      "execution_count": 0,
      "outputs": []
    },
    {
      "cell_type": "markdown",
      "metadata": {
        "id": "r-um07KdMy3k",
        "colab_type": "text"
      },
      "source": [
        "Calculate the prediction from the Bayesian Logistic model\n"
      ]
    },
    {
      "cell_type": "code",
      "metadata": {
        "id": "8wAZmLUrlgt2",
        "colab_type": "code",
        "colab": {}
      },
      "source": [
        "### Bayesian Logistic prediction\n",
        "ex = fit.extract()                                                                      \n",
        "target = np.mean(ex['y_pred'], axis=0) \n",
        "bayes_p = scipy.special.expit(target) # prob\n",
        "bayes_y = np.floor(bayes_p * 2) # survial"
      ],
      "execution_count": 0,
      "outputs": []
    },
    {
      "cell_type": "markdown",
      "metadata": {
        "id": "ZBm4zxkiNBh6",
        "colab_type": "text"
      },
      "source": [
        "0-1 Loss and sensitivity/specificity:\n",
        "\n",
        "\n",
        "*   0-1 Loss is the percentage of wrongly identified items\n",
        "*   Sensitivity = True Positives / (True Positives + False Negatives)\n",
        "*   Specificity = True Negatives / (True Negatives + False Positives)\n",
        "\n",
        "\n"
      ]
    },
    {
      "cell_type": "code",
      "metadata": {
        "id": "L3tEoD91mYeE",
        "colab_type": "code",
        "colab": {
          "base_uri": "https://localhost:8080/",
          "height": 53
        },
        "outputId": "8b4c490c-984e-4a97-99fa-163f00cc0a99"
      },
      "source": [
        "# 0-1 Loss\n",
        "bayes_loss = mean(bayes_y != ytest)\n",
        "naive_loss = mean(naive_p != ytest)\n",
        "print('0-1 Loss for Naive Classifier: %.3f' % naive_loss)\n",
        "print('0-1 Loss for Bayesian Logistic: %.3f' % bayes_loss)"
      ],
      "execution_count": 274,
      "outputs": [
        {
          "output_type": "stream",
          "text": [
            "0-1 Loss for Naive Classifier: 0.241\n",
            "0-1 Loss for Bayesian Logistic: 0.216\n"
          ],
          "name": "stdout"
        }
      ]
    },
    {
      "cell_type": "markdown",
      "metadata": {
        "id": "T2kpfs5jPUdt",
        "colab_type": "text"
      },
      "source": [
        "We can see the Bayesian Logistic Regression model has a lower 0-1 loss compared to the naive classifer. The 0-1 Loss droped by 0.025."
      ]
    },
    {
      "cell_type": "code",
      "metadata": {
        "id": "ZtpNawIOMO6l",
        "colab_type": "code",
        "colab": {
          "base_uri": "https://localhost:8080/",
          "height": 89
        },
        "outputId": "eaa19285-b9ab-496d-984c-d0b7fabe7378"
      },
      "source": [
        "### sensitivity/specificity\n",
        "# Naive\n",
        "tp = sum(np.array(naive_p == ytest) & np.array(ytest == 1))\n",
        "tn = sum(np.array(naive_p == ytest) & np.array(ytest == 0))\n",
        "\n",
        "fp = sum(np.array(naive_p != ytest) & np.array(ytest == 0))\n",
        "fn = sum(np.array(naive_p != ytest) & np.array(ytest == 1))\n",
        "\n",
        "print('Sensitivity for Naive Classifier: %.3f' % (tp/(tp+fn)))\n",
        "print('Specificity for Naive Classifier: %.3f' % (tn/(tn+fp)))\n",
        "\n",
        "# Bayesian\n",
        "tp = sum(np.array(bayes_y == ytest) & np.array(ytest == 1))\n",
        "tn = sum(np.array(bayes_y == ytest) & np.array(ytest == 0))\n",
        "\n",
        "fp = sum(np.array(bayes_y != ytest) & np.array(ytest == 0))\n",
        "fn = sum(np.array(bayes_y != ytest) & np.array(ytest == 1))\n",
        "\n",
        "print('Sensitivity for Bayes Logistic: %.3f' % (tp/(tp+fn)))\n",
        "print('Specificity for Bayes Logistic: %.3f' % (tn/(tn+fp)))"
      ],
      "execution_count": 281,
      "outputs": [
        {
          "output_type": "stream",
          "text": [
            "Sensitivity for Naive Classifier: 0.650\n",
            "Specificity for Naive Classifier: 0.833\n",
            "Sensitivity for Bayes Logistic: 0.675\n",
            "Specificity for Bayes Logistic: 0.856\n"
          ],
          "name": "stdout"
        }
      ]
    },
    {
      "cell_type": "markdown",
      "metadata": {
        "id": "cIoqygfXPumw",
        "colab_type": "text"
      },
      "source": [
        "We can see the Bayesian Logistic Regression model outperforms the naive classifer in both Sensitivity  and Specificity.\n",
        "\n",
        "## ROC AUC\n",
        "ROC (Receiver Operating Characteristics) curve is great tool to check or visualize the performance of classification problem. The curve is plotted with True Positive Rate (=Sensitivity) against the False Positive Rate (=1-Specificity).[3]\n",
        "\n",
        "The code for drawing RPC and calculating AUC (Area Under The Curve) rough follows the post from Jason Brownlee[4]."
      ]
    },
    {
      "cell_type": "code",
      "metadata": {
        "id": "i0jEnL_wr3nK",
        "colab_type": "code",
        "colab": {
          "base_uri": "https://localhost:8080/",
          "height": 315
        },
        "outputId": "4feba7ce-bc32-4455-f687-e4f0438d5e89"
      },
      "source": [
        "#### calculate ROC AUC\n",
        "naive_auc = roc_auc_score(ytest, naive_p)\n",
        "bayes_auc = roc_auc_score(ytest, bayes_p)\n",
        "# summarize \n",
        "print('Classifier: ROC AUC=%.3f' % (naive_auc))\n",
        "print('Bayesian Logistic: ROC AUC=%.3f' % (bayes_auc))\n",
        "\n",
        "#### plot the roc curve\n",
        "n_fpr, n_tpr, _ = roc_curve(ytest, naive_p)\n",
        "b_fpr, b_tpr, _ = roc_curve(ytest, bayes_p)\n",
        "plt.plot(n_fpr, n_tpr, linestyle='-', label='Naive Classifier')\n",
        "plt.plot(b_fpr, b_tpr, marker='.', label='Bayesian Logistic')\n",
        "# axis labels\n",
        "plt.xlabel('False Positive Rate')\n",
        "plt.ylabel('True Positive Rate')\n",
        "# show the legend\n",
        "plt.legend()\n",
        "# show the plot\n",
        "plt.show()"
      ],
      "execution_count": 282,
      "outputs": [
        {
          "output_type": "stream",
          "text": [
            "Classifier: ROC AUC=0.741\n",
            "Bayesian Logistic: ROC AUC=0.833\n"
          ],
          "name": "stdout"
        },
        {
          "output_type": "display_data",
          "data": {
            "image/png": "[encoded data removed]",
            "text/plain": [
              "<Figure size 432x288 with 1 Axes>"
            ]
          },
          "metadata": {
            "tags": [],
            "needs_background": "light"
          }
        }
      ]
    },
    {
      "cell_type": "markdown",
      "metadata": {
        "id": "MCB17Gk-Sxml",
        "colab_type": "text"
      },
      "source": [
        "ROC for Bayesian Logistic model is above the Naive Classifier. AUC is 0.833 for Bayesian Logistic model and 0.741 for the Naive Classifier. It means our Bayesian Logistic model has better separability and is more capable of predicting survival."
      ]
    },
    {
      "cell_type": "markdown",
      "metadata": {
        "collapsed": true,
        "id": "d5nNPoNrmMkr",
        "colab_type": "text"
      },
      "source": [
        "# Reference\n",
        "\n",
        "\n",
        "1.    [Titanic Data Information](https://www.kaggle.com/c/titanic/overview)\n",
        "2.  [An Introduction to Bayesian Modeling in PyStan](https://opendatagroup.github.io/data%20science/2019/01/24/introduction-to-bayesian-modeling.html)\n",
        "3. [Understanding AUC - ROC Curve\n",
        "](https://towardsdatascience.com/understanding-auc-roc-curve-68b2303cc9c5)\n",
        "4. [How to Use ROC Curves and Precision-Recall Curves for Classification in Python](https://machinelearningmastery.com/roc-curves-and-precision-recall-curves-for-classification-in-python/)\n",
        "\n",
        "\n"
      ]
    },
    {
      "cell_type": "markdown",
      "metadata": {
        "id": "W5-HXpxZwfye",
        "colab_type": "text"
      },
      "source": [
        "\n"
      ]
    },
    {
      "cell_type": "markdown",
      "metadata": {
        "id": "JVvACY9JxCX2",
        "colab_type": "text"
      },
      "source": [
        "\n",
        "\n"
      ]
    },
    {
      "cell_type": "code",
      "metadata": {
        "id": "DddvsNqPmMk0",
        "colab_type": "code",
        "colab": {}
      },
      "source": [
        ""
      ],
      "execution_count": 0,
      "outputs": []
    }
  ]
}